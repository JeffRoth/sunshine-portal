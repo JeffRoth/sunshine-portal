{
 "cells": [
  {
   "cell_type": "code",
   "execution_count": 1,
   "metadata": {},
   "outputs": [],
   "source": [
    "# import libraries\n",
    "import pandas as pd\n",
    "from pandasql import sqldf\n",
    "import unicodedata\n",
    "import codecs"
   ]
  },
  {
   "cell_type": "code",
   "execution_count": 2,
   "metadata": {},
   "outputs": [],
   "source": [
    "# Create lambda function for easy queries\n",
    "pysqldf = lambda q: sqldf(q, globals())"
   ]
  },
  {
   "cell_type": "code",
   "execution_count": 45,
   "metadata": {},
   "outputs": [],
   "source": [
    "# read agencies csv\n",
    "agencies = pd.read_csv('agencies.csv')\n",
    "agencies.rename(columns={'Business Unit':'businessunit', 'BU Description':'budescription'}, inplace=True)"
   ]
  },
  {
   "cell_type": "code",
   "execution_count": 4,
   "metadata": {},
   "outputs": [],
   "source": [
    "# read job_families csv\n",
    "job_families = pd.read_csv('job_families.csv')\n",
    "job_families.rename(columns={'Job Code':'jobcode', 'Position Descr':'positiondescr', 'Job Family':'jobfamily'}, inplace=True)"
   ]
  },
  {
   "cell_type": "code",
   "execution_count": 6,
   "metadata": {},
   "outputs": [],
   "source": [
    "# Create it_positions table\n",
    "employess_20230114 = pd.read_csv('employees20230114.csv')\n",
    "employess_20230114.rename(columns={'Job Code': 'jobcode', 'Position Descr': 'positiondescription', 'Classified/Exempt': 'classified'}, inplace=True)\n",
    "\n",
    "query = \"\"\"\n",
    "SELECT\n",
    "\tjobcode,\n",
    "\tpositiondescription,\n",
    "\tclassified\n",
    "FROM employess_20230114\n",
    "WHERE (\n",
    "\tUPPER(positiondescription) LIKE UPPER('% IT %')\n",
    "\tor UPPER(positiondescription) LIKE UPPER('IT%')\n",
    "\tor UPPER(positiondescription) LIKE UPPER('Chief Information Officer')\n",
    "\tor UPPER(positiondescription) LIKE UPPER('DATA ANALYST%')\n",
    "\tor UPPER(positiondescription) LIKE UPPER('Information%')\n",
    "\tor UPPER(positiondescription) LIKE UPPER('Network%')\n",
    "\tor UPPER(positiondescription) LIKE UPPER('Chief Technology Officer')\n",
    "\tor UPPER(positiondescription) LIKE UPPER('%Software%')\n",
    "\tor UPPER(positiondescription) LIKE UPPER('%Systems%')\n",
    "\tor UPPER(positiondescription) LIKE UPPER('%Odyssey%')\n",
    "\tor UPPER(positiondescription) LIKE UPPER('%DATA SCIENTIST%')\n",
    "\tor UPPER(positiondescription) LIKE UPPER('Database Admin%')\n",
    "\tor UPPER(positiondescription) LIKE UPPER('AOC Chief Tech%')\n",
    "\tor UPPER(positiondescription) LIKE UPPER('Broadband%')\n",
    "\tor UPPER(positiondescription) LIKE UPPER('Computer%')\n",
    ")\n",
    "GROUP BY jobcode, positiondescription, classified\n",
    "ORDER BY jobcode;\n",
    "\"\"\"\n",
    "it_positions = pysqldf(query)"
   ]
  },
  {
   "cell_type": "code",
   "execution_count": 85,
   "metadata": {},
   "outputs": [],
   "source": [
    "# read in employee table\n",
    "employee_table = pd.read_csv('employees20230114.csv')\n"
   ]
  },
  {
   "cell_type": "code",
   "execution_count": 86,
   "metadata": {},
   "outputs": [
    {
     "name": "stdout",
     "output_type": "stream",
     "text": [
      "<class 'pandas.core.frame.DataFrame'>\n",
      "RangeIndex: 28655 entries, 0 to 28654\n",
      "Data columns (total 18 columns):\n",
      " #   Column                   Non-Null Count  Dtype  \n",
      "---  ------                   --------------  -----  \n",
      " 0   Branch                   28655 non-null  object \n",
      " 1   Business Unit            28655 non-null  int64  \n",
      " 2   BU Description           28655 non-null  object \n",
      " 3   Divsion                  28655 non-null  object \n",
      " 4   Divsion Description      28655 non-null  object \n",
      " 5   Position Nbr             28655 non-null  int64  \n",
      " 6   Position Descr           28654 non-null  object \n",
      " 7   Job Code                 28655 non-null  object \n",
      " 8   Name                     28655 non-null  object \n",
      " 9   Classified/Exempt        28655 non-null  object \n",
      " 10  Filled/Vacant            28655 non-null  object \n",
      " 11  Reg/Temp                 28655 non-null  object \n",
      " 12  Full/Part Time           28655 non-null  object \n",
      " 13  Position Start date      22039 non-null  object \n",
      " 14  Hourly Rate              28655 non-null  float64\n",
      " 15  Annual Salary            28655 non-null  float64\n",
      " 16  Fiscal YTD Paid          28655 non-null  float64\n",
      " 17  Mid-Point Annual Salary  28655 non-null  float64\n",
      "dtypes: float64(4), int64(2), object(12)\n",
      "memory usage: 3.9+ MB\n"
     ]
    }
   ],
   "source": [
    "employee_table.info()"
   ]
  },
  {
   "cell_type": "code",
   "execution_count": 87,
   "metadata": {},
   "outputs": [],
   "source": [
    "employee_table.rename(columns={'Branch':'branch', 'Business Unit':'businessunit', 'BU Description':'budescription', 'Divsion':'division',\n",
    "                               'Divsion Description':'divisiondescription', 'Position Nbr':'positionnumber', 'Position Descr':'positiondescription',\n",
    "                               'Job Code':'jobcode', 'Name':'name', 'Classified/Exempt':'classified', 'Filled/Vacant':'filledvacant', 'Reg/Temp':'regtemp',\n",
    "                               'Full/Part Time':'fullparttime', 'Position Start date':'positionstartdate', 'Hourly Rate':'hourlyrate',\n",
    "                               'Annual Salary':'annualsalary', 'Fiscal YTD Paid':'fiscalytdpaid', 'Mid-Point Annual Salary': 'midsalary'}, inplace=True)\n",
    "\n",
    "\n",
    "query = \"\"\"\n",
    "SELECT\n",
    "\te.branch as \"Branch\",\n",
    "\te.businessunit as \"Business Unit\",\n",
    "\te.budescription as \"BU Description\",\n",
    "\te.division as \"Division\",\n",
    "\te.divisiondescription as \"Division Description\",\n",
    "\te.positionnumber as \"Position Nbr\",\n",
    "\tCASE\n",
    "\t\tWHEN e.positiondescription IS NULL THEN 'none'\n",
    "\t\tELSE e.positiondescription \n",
    "\tEND as \"Position Descr\",\n",
    "    a.size as \"Group\",\n",
    "\tCASE\n",
    "\t\tWHEN jf.jobfamily IS NULL THEN 'non-IT'\n",
    "\t\tELSE jf.jobfamily\n",
    "\tEND as \"Job Family\",\n",
    "\te.jobcode as \"Job Code\",\n",
    "\te.name as \"Name\",\n",
    "\te.classified as \"Classified/Exempt\",\n",
    "\te.filledvacant as \"Filled/Vacant\",\n",
    "\te.regtemp as \"Reg/Temp\",\n",
    "\te.fullparttime as \"Full/Part Time\",\n",
    "\te.positionstartdate as \"Position Start date\",\n",
    "\te.hourlyrate as \"Hourly Rate\",\n",
    "\te.annualsalary as \"Annual Salary\",\n",
    "\te.fiscalytdpaid as \"Fiscal YTD Paid\",\n",
    "\te.midsalary as \"Mid-Point Annual Salary\",\n",
    "\tCASE\n",
    "\t\tWHEN e.filledvacant = 'Vacant' THEN '0'\n",
    "\t\tELSE e.midsalary\n",
    "\tEND as \"Mid-Point Annual Salary Filled\",\n",
    "\t'Jan 2023' as \"Date\"\n",
    "FROM employee_table e\n",
    "JOIN agencies a\n",
    "  ON a.businessunit = e.businessunit AND a.branch = e.branch\n",
    "FULL JOIN job_families jf\n",
    "  ON jf.jobcode = e.jobcode\n",
    "\"\"\"\n",
    "employee_table_formatted = pysqldf(query)\n",
    "\n"
   ]
  },
  {
   "cell_type": "code",
   "execution_count": 88,
   "metadata": {},
   "outputs": [
    {
     "name": "stdout",
     "output_type": "stream",
     "text": [
      "<class 'pandas.core.frame.DataFrame'>\n",
      "RangeIndex: 28655 entries, 0 to 28654\n",
      "Data columns (total 22 columns):\n",
      " #   Column                          Non-Null Count  Dtype  \n",
      "---  ------                          --------------  -----  \n",
      " 0   Branch                          28655 non-null  object \n",
      " 1   Business Unit                   28655 non-null  int64  \n",
      " 2   BU Description                  28655 non-null  object \n",
      " 3   Division                        28655 non-null  object \n",
      " 4   Division Description            28655 non-null  object \n",
      " 5   Position Nbr                    28655 non-null  int64  \n",
      " 6   Position Descr                  28655 non-null  object \n",
      " 7   Group                           28655 non-null  object \n",
      " 8   Job Family                      28655 non-null  object \n",
      " 9   Job Code                        28655 non-null  object \n",
      " 10  Name                            28655 non-null  object \n",
      " 11  Classified/Exempt               28655 non-null  object \n",
      " 12  Filled/Vacant                   28655 non-null  object \n",
      " 13  Reg/Temp                        28655 non-null  object \n",
      " 14  Full/Part Time                  28655 non-null  object \n",
      " 15  Position Start date             22039 non-null  object \n",
      " 16  Hourly Rate                     28655 non-null  float64\n",
      " 17  Annual Salary                   28655 non-null  float64\n",
      " 18  Fiscal YTD Paid                 28655 non-null  float64\n",
      " 19  Mid-Point Annual Salary         28655 non-null  float64\n",
      " 20  Mid-Point Annual Salary Filled  28655 non-null  object \n",
      " 21  Date                            28655 non-null  object \n",
      "dtypes: float64(4), int64(2), object(16)\n",
      "memory usage: 4.8+ MB\n"
     ]
    }
   ],
   "source": [
    "employee_table_formatted.info()"
   ]
  },
  {
   "cell_type": "code",
   "execution_count": 89,
   "metadata": {},
   "outputs": [],
   "source": [
    "# write to csv\n",
    "\n",
    "employee_table_formatted.to_csv('emp20230114.csv', index=False)"
   ]
  }
 ],
 "metadata": {
  "kernelspec": {
   "display_name": "venv",
   "language": "python",
   "name": "python3"
  },
  "language_info": {
   "codemirror_mode": {
    "name": "ipython",
    "version": 3
   },
   "file_extension": ".py",
   "mimetype": "text/x-python",
   "name": "python",
   "nbconvert_exporter": "python",
   "pygments_lexer": "ipython3",
   "version": "3.11.3"
  },
  "orig_nbformat": 4
 },
 "nbformat": 4,
 "nbformat_minor": 2
}
