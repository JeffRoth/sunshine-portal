{
 "cells": [
  {
   "cell_type": "code",
   "execution_count": 1,
   "metadata": {},
   "outputs": [],
   "source": [
    "# Import Libraries\n",
    "import pandas as pd\n",
    "from pandasql import sqldf\n",
    "import unicodedata\n",
    "import codecs"
   ]
  },
  {
   "cell_type": "code",
   "execution_count": 2,
   "metadata": {},
   "outputs": [],
   "source": [
    "# Create lambda function for easy queries\n",
    "pysqldf = lambda q: sqldf(q, globals())"
   ]
  },
  {
   "cell_type": "code",
   "execution_count": 3,
   "metadata": {},
   "outputs": [],
   "source": [
    "# Remove non-UTF-8 characters\n",
    "infile = codecs.open('Purchases_20230414_cleaned.csv', 'r', encoding='utf-8', errors='ignore')\n",
    "outfile = codecs.open('purchases20230414_parsed.csv', 'w', encoding='utf-8', errors='ignore')\n",
    "\n",
    "for line in infile.readlines():\n",
    "    for word in line.split():\n",
    "        outfile.write(word+\" \")\n",
    "    outfile.write(\"\\n\")\n",
    "\n",
    "infile.close()\n",
    "outfile.close()"
   ]
  },
  {
   "cell_type": "code",
   "execution_count": 4,
   "metadata": {},
   "outputs": [],
   "source": [
    "# Read cleaned-up CSVs into DataFrame\n",
    "purchases_20230414 = pd.read_csv('purchases20230414_parsed.csv')\n",
    "agencies_df = pd.read_excel('agencies.xlsx')"
   ]
  },
  {
   "cell_type": "code",
   "execution_count": 5,
   "metadata": {},
   "outputs": [],
   "source": [
    "# Rename Agency table column headers\n",
    "agencies_df.rename(columns = {'Branch': 'branch',\n",
    "                              'Business Unit': 'businessunit',\n",
    "                              'BU Description': 'budescription',\n",
    "                              'Group': 'size'}, inplace=True)"
   ]
  },
  {
   "cell_type": "code",
   "execution_count": 6,
   "metadata": {},
   "outputs": [],
   "source": [
    "pd.set_option('max_colwidth', 2000)"
   ]
  },
  {
   "cell_type": "code",
   "execution_count": null,
   "metadata": {},
   "outputs": [],
   "source": [
    "# SQL query\n",
    "query = \"\"\"SELECT DISTINCT a.budescription, p.descr254mixed\n",
    "             FROM agencies_df a\n",
    "             JOIN purchases_20230414 p\n",
    "               ON a.businessunit = p.BusinessUnitId\n",
    "            WHERE (\n",
    "                  UPPER(p.Descr254Mixed) LIKE UPPER('%cisco umbrella%')\n",
    "                  OR UPPER(p.Descr254Mixed) LIKE UPPER('%cisco dna%')\n",
    "                  )\n",
    "            GROUP BY a.budescription, p.descr254mixed;\"\"\"\n",
    "\n",
    "display(pysqldf(query))"
   ]
  },
  {
   "cell_type": "code",
   "execution_count": null,
   "metadata": {},
   "outputs": [],
   "source": [
    "# SQL query\n",
    "query = \"\"\"SELECT DISTINCT a.budescription, p.descr254mixed\n",
    "             FROM agencies_df a\n",
    "             JOIN purchases_20230414 p\n",
    "               ON a.businessunit = p.BusinessUnitId\n",
    "            WHERE (\n",
    "                  UPPER(p.Descr254Mixed) LIKE UPPER('%adaudit%')\n",
    "                  )\n",
    "            GROUP BY a.budescription, p.descr254mixed;\"\"\"\n",
    "\n",
    "display(pysqldf(query))"
   ]
  }
 ],
 "metadata": {
  "kernelspec": {
   "display_name": "myenv",
   "language": "python",
   "name": "python3"
  },
  "language_info": {
   "codemirror_mode": {
    "name": "ipython",
    "version": 3
   },
   "file_extension": ".py",
   "mimetype": "text/x-python",
   "name": "python",
   "nbconvert_exporter": "python",
   "pygments_lexer": "ipython3",
   "version": "3.11.3"
  },
  "orig_nbformat": 4
 },
 "nbformat": 4,
 "nbformat_minor": 2
}
